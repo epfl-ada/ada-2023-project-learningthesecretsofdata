{
 "cells": [
  {
   "cell_type": "markdown",
   "source": [
    "## TODO: DELETE THIS NOTEBOOK BEFORE SUBMISSION\n",
    "# Milestone 2: Insight Of Data And Feasibility Check Of Our Idea\n",
    "\n",
    "<hr style=\"clear:both\">\n",
    "\n",
    "This notebook traces our journey through the feasibility check of our idea : Checking trends in music composition for the movie industry.\n",
    "\n",
    "**Project Mentor:** [Aoxiang Fan](https://people.epfl.ch/aoxiang.fan) ([Email](mailto:aoxiang.fan@epfl.ch))\n",
    "**Authors:** [Luca Carroz](https://people.epfl.ch/emilie.carroz), [David Schroeter](https://people.epfl.ch/david.schroeter), [Xavier Ogay](https://people.epfl.ch/xavier.ogay), [Joris Monnet](https://people.epfl.ch/joris.monnet), [Paulo Ribeiro de Carvalho](https://people.epfl.ch/paulo.ribeirodecarvalho)\n",
    "\n",
    "<hr style=\"clear:both\">"
   ],
   "metadata": {
    "collapsed": false
   }
  },
  {
   "cell_type": "markdown",
   "source": [
    "## Storyline\n",
    "\n",
    "**Title : Stanislas' music dream : Road to Hollywood !**\n",
    "\n",
    "A 20-year-old aspiring musician, Stanislas, fueled by a passion for the film industry, embarks on a quest to launch his career. His ultimate dream? To hear one of his productions featured in a Hollywood film and become one of the planet's top composers. To increase his chances, he turns to a team of Data Scientists known as LSD.\n",
    "\n",
    "The \"LearningtheSecretsofData\" team's mission is to identify trends shared among successful music composers and compositions, ultimately optimizing choices for our young musician. This is not an easy task but the team is driven by the wish of helping Stanislas. How could they provoke a cascADA of successful choices in Stany career.\n",
    "\n",
    "Which music genre Stany should he focus on? Will this new direction be enough for him to conquers the show business? Maybe he may invest in a ludicrous website to promote himself? Or should he even consider changing Nationality to achieve his goal? Let’s see what’s the plan LSD had concocted for Stanislas.\n"
   ],
   "metadata": {
    "collapsed": false
   }
  },
  {
   "cell_type": "markdown",
   "source": [
    "## Needed data\n",
    "\n",
    "To help Stanislas with his dream, we will need some specific information about each analysed movie. To support our final answer concerning potential trends in composer for movie industry, we will analyse few questions :\n",
    "\n",
    "1) Which are the most frequent music genre appearing in movies ?\n",
    "2) What is the average composer's age at their :\n",
    "   - first movie appearance ?\n",
    "   - biggest box office revenue ?\n",
    "3) How the top composers' career progress over the years ?\n",
    "4) Where do composers come from ?\n",
    "5) Does composer's gender matter ?\n",
    "6) Does having a personal website correlate with the composers' success ?\n",
    "7) Is there a correlation between box office revenue and movie's playlist popularity ?\n",
    "\n",
    "List of needed information about movie's **composer** :\n",
    "\n",
    "- Name\n",
    "- Birthday\n",
    "- Gender\n",
    "- Homepage\n",
    "- Place of birth\n",
    "- First appearance in movie credits\n",
    "\n",
    "List of needed information about composers' **musics** :\n",
    "\n",
    "- Genre\n",
    "- Spotify's popularity\n"
   ],
   "metadata": {
    "collapsed": false
   }
  },
  {
   "cell_type": "markdown",
   "source": [
    "## Import"
   ],
   "metadata": {
    "collapsed": false
   }
  },
  {
   "cell_type": "code",
   "execution_count": 1,
   "outputs": [],
   "source": [
    "# Import all needed libraries\n",
    "from helpers import *\n",
    "\n",
    "# Load autoreload extension\n",
    "%load_ext autoreload\n",
    "\n",
    "# Set autoreload mode\n",
    "%autoreload 2"
   ],
   "metadata": {
    "collapsed": false,
    "ExecuteTime": {
     "end_time": "2023-11-17T15:51:01.480669300Z",
     "start_time": "2023-11-17T15:51:00.640539300Z"
    }
   }
  },
  {
   "cell_type": "markdown",
   "source": [
    "## Load Data\n",
    "\n",
    "Only `movie.metadata.tsv` is loaded, since others data sets are not relevant for our data analysis.\n",
    "\n",
    "Note that no header are given in the raw data sets. We then looked at the documentation and set these headers with meaningful names. Please, find the documentation of data set [here](http://www.cs.cmu.edu/~ark/personas/)."
   ],
   "metadata": {
    "collapsed": false
   }
  },
  {
   "cell_type": "code",
   "execution_count": 2,
   "outputs": [
    {
     "name": "stderr",
     "output_type": "stream",
     "text": [
      "C:\\Users\\41786\\OneDrive\\Documents\\EPFL\\master\\ma1\\ADA\\ada-2023-project-learningthesecretsofdata\\venv\\lib\\site-packages\\pandas\\core\\dtypes\\cast.py:1056: RuntimeWarning: invalid value encountered in cast\n",
      "  if (arr.astype(int) == arr).all():\n",
      "C:\\Users\\41786\\OneDrive\\Documents\\EPFL\\master\\ma1\\ADA\\ada-2023-project-learningthesecretsofdata\\venv\\lib\\site-packages\\pandas\\core\\dtypes\\cast.py:1080: RuntimeWarning: invalid value encountered in cast\n",
      "  if (arr.astype(int) == arr).all():\n"
     ]
    },
    {
     "data": {
      "text/plain": "       wiki_movieID freebase_movieID  \\\n0            975900        /m/03vyhn   \n1           3196793        /m/08yl5d   \n2          28463795       /m/0crgdbh   \n3           9363483       /m/0285_cd   \n4            261236        /m/01mrr1   \n...             ...              ...   \n81736      35228177       /m/0j7hxnt   \n81737      34980460       /m/0g4pl34   \n81738       9971909       /m/02pygw1   \n81739        913762        /m/03pcrp   \n81740      12476867       /m/02w7zz8   \n\n                                                    name release_date  \\\n0                                         Ghosts of Mars   2001-08-24   \n1      Getting Away with Murder: The JonBenét Ramsey ...   2000-02-16   \n2                                            Brun bitter         1988   \n3                                       White Of The Eye         1987   \n4                                      A Woman in Flames         1983   \n...                                                  ...          ...   \n81736                           Mermaids: The Body Found   2011-03-19   \n81737                                            Knuckle   2011-01-21   \n81738                                  Another Nice Mess   1972-09-22   \n81739  The Super Dimension Fortress Macross II: Lover...   1992-05-21   \n81740                                            Spliced         2002   \n\n       box_office_revenue  runtime                           languages  \\\n0              14010832.0     98.0  {\"/m/02h40lc\": \"English Language\"}   \n1                    <NA>     95.0  {\"/m/02h40lc\": \"English Language\"}   \n2                    <NA>     83.0  {\"/m/05f_3\": \"Norwegian Language\"}   \n3                    <NA>    110.0  {\"/m/02h40lc\": \"English Language\"}   \n4                    <NA>    106.0   {\"/m/04306rv\": \"German Language\"}   \n...                   ...      ...                                 ...   \n81736                <NA>    120.0  {\"/m/02h40lc\": \"English Language\"}   \n81737                <NA>     96.0  {\"/m/02h40lc\": \"English Language\"}   \n81738                <NA>     66.0  {\"/m/02h40lc\": \"English Language\"}   \n81739                <NA>    150.0   {\"/m/03_9r\": \"Japanese Language\"}   \n81740                <NA>     86.0  {\"/m/02h40lc\": \"English Language\"}   \n\n                                               countries  \\\n0              {\"/m/09c7w0\": \"United States of America\"}   \n1              {\"/m/09c7w0\": \"United States of America\"}   \n2                                 {\"/m/05b4w\": \"Norway\"}   \n3                         {\"/m/07ssc\": \"United Kingdom\"}   \n4                                {\"/m/0345h\": \"Germany\"}   \n...                                                  ...   \n81736          {\"/m/09c7w0\": \"United States of America\"}   \n81737  {\"/m/03rt9\": \"Ireland\", \"/m/07ssc\": \"United Ki...   \n81738          {\"/m/09c7w0\": \"United States of America\"}   \n81739                              {\"/m/03_3d\": \"Japan\"}   \n81740                            {\"/m/0d060g\": \"Canada\"}   \n\n                                                  genres  \n0      {\"/m/01jfsb\": \"Thriller\", \"/m/06n90\": \"Science...  \n1      {\"/m/02n4kr\": \"Mystery\", \"/m/03bxz7\": \"Biograp...  \n2      {\"/m/0lsxr\": \"Crime Fiction\", \"/m/07s9rl0\": \"D...  \n3      {\"/m/01jfsb\": \"Thriller\", \"/m/0glj9q\": \"Erotic...  \n4                                {\"/m/07s9rl0\": \"Drama\"}  \n...                                                  ...  \n81736                            {\"/m/07s9rl0\": \"Drama\"}  \n81737  {\"/m/03bxz7\": \"Biographical film\", \"/m/07s9rl0...  \n81738       {\"/m/06nbt\": \"Satire\", \"/m/01z4y\": \"Comedy\"}  \n81739  {\"/m/06n90\": \"Science Fiction\", \"/m/0gw5n2f\": ...  \n81740  {\"/m/01jfsb\": \"Thriller\", \"/m/03npn\": \"Horror\"...  \n\n[81741 rows x 9 columns]",
      "text/html": "<div>\n<style scoped>\n    .dataframe tbody tr th:only-of-type {\n        vertical-align: middle;\n    }\n\n    .dataframe tbody tr th {\n        vertical-align: top;\n    }\n\n    .dataframe thead th {\n        text-align: right;\n    }\n</style>\n<table border=\"1\" class=\"dataframe\">\n  <thead>\n    <tr style=\"text-align: right;\">\n      <th></th>\n      <th>wiki_movieID</th>\n      <th>freebase_movieID</th>\n      <th>name</th>\n      <th>release_date</th>\n      <th>box_office_revenue</th>\n      <th>runtime</th>\n      <th>languages</th>\n      <th>countries</th>\n      <th>genres</th>\n    </tr>\n  </thead>\n  <tbody>\n    <tr>\n      <th>0</th>\n      <td>975900</td>\n      <td>/m/03vyhn</td>\n      <td>Ghosts of Mars</td>\n      <td>2001-08-24</td>\n      <td>14010832.0</td>\n      <td>98.0</td>\n      <td>{\"/m/02h40lc\": \"English Language\"}</td>\n      <td>{\"/m/09c7w0\": \"United States of America\"}</td>\n      <td>{\"/m/01jfsb\": \"Thriller\", \"/m/06n90\": \"Science...</td>\n    </tr>\n    <tr>\n      <th>1</th>\n      <td>3196793</td>\n      <td>/m/08yl5d</td>\n      <td>Getting Away with Murder: The JonBenét Ramsey ...</td>\n      <td>2000-02-16</td>\n      <td>&lt;NA&gt;</td>\n      <td>95.0</td>\n      <td>{\"/m/02h40lc\": \"English Language\"}</td>\n      <td>{\"/m/09c7w0\": \"United States of America\"}</td>\n      <td>{\"/m/02n4kr\": \"Mystery\", \"/m/03bxz7\": \"Biograp...</td>\n    </tr>\n    <tr>\n      <th>2</th>\n      <td>28463795</td>\n      <td>/m/0crgdbh</td>\n      <td>Brun bitter</td>\n      <td>1988</td>\n      <td>&lt;NA&gt;</td>\n      <td>83.0</td>\n      <td>{\"/m/05f_3\": \"Norwegian Language\"}</td>\n      <td>{\"/m/05b4w\": \"Norway\"}</td>\n      <td>{\"/m/0lsxr\": \"Crime Fiction\", \"/m/07s9rl0\": \"D...</td>\n    </tr>\n    <tr>\n      <th>3</th>\n      <td>9363483</td>\n      <td>/m/0285_cd</td>\n      <td>White Of The Eye</td>\n      <td>1987</td>\n      <td>&lt;NA&gt;</td>\n      <td>110.0</td>\n      <td>{\"/m/02h40lc\": \"English Language\"}</td>\n      <td>{\"/m/07ssc\": \"United Kingdom\"}</td>\n      <td>{\"/m/01jfsb\": \"Thriller\", \"/m/0glj9q\": \"Erotic...</td>\n    </tr>\n    <tr>\n      <th>4</th>\n      <td>261236</td>\n      <td>/m/01mrr1</td>\n      <td>A Woman in Flames</td>\n      <td>1983</td>\n      <td>&lt;NA&gt;</td>\n      <td>106.0</td>\n      <td>{\"/m/04306rv\": \"German Language\"}</td>\n      <td>{\"/m/0345h\": \"Germany\"}</td>\n      <td>{\"/m/07s9rl0\": \"Drama\"}</td>\n    </tr>\n    <tr>\n      <th>...</th>\n      <td>...</td>\n      <td>...</td>\n      <td>...</td>\n      <td>...</td>\n      <td>...</td>\n      <td>...</td>\n      <td>...</td>\n      <td>...</td>\n      <td>...</td>\n    </tr>\n    <tr>\n      <th>81736</th>\n      <td>35228177</td>\n      <td>/m/0j7hxnt</td>\n      <td>Mermaids: The Body Found</td>\n      <td>2011-03-19</td>\n      <td>&lt;NA&gt;</td>\n      <td>120.0</td>\n      <td>{\"/m/02h40lc\": \"English Language\"}</td>\n      <td>{\"/m/09c7w0\": \"United States of America\"}</td>\n      <td>{\"/m/07s9rl0\": \"Drama\"}</td>\n    </tr>\n    <tr>\n      <th>81737</th>\n      <td>34980460</td>\n      <td>/m/0g4pl34</td>\n      <td>Knuckle</td>\n      <td>2011-01-21</td>\n      <td>&lt;NA&gt;</td>\n      <td>96.0</td>\n      <td>{\"/m/02h40lc\": \"English Language\"}</td>\n      <td>{\"/m/03rt9\": \"Ireland\", \"/m/07ssc\": \"United Ki...</td>\n      <td>{\"/m/03bxz7\": \"Biographical film\", \"/m/07s9rl0...</td>\n    </tr>\n    <tr>\n      <th>81738</th>\n      <td>9971909</td>\n      <td>/m/02pygw1</td>\n      <td>Another Nice Mess</td>\n      <td>1972-09-22</td>\n      <td>&lt;NA&gt;</td>\n      <td>66.0</td>\n      <td>{\"/m/02h40lc\": \"English Language\"}</td>\n      <td>{\"/m/09c7w0\": \"United States of America\"}</td>\n      <td>{\"/m/06nbt\": \"Satire\", \"/m/01z4y\": \"Comedy\"}</td>\n    </tr>\n    <tr>\n      <th>81739</th>\n      <td>913762</td>\n      <td>/m/03pcrp</td>\n      <td>The Super Dimension Fortress Macross II: Lover...</td>\n      <td>1992-05-21</td>\n      <td>&lt;NA&gt;</td>\n      <td>150.0</td>\n      <td>{\"/m/03_9r\": \"Japanese Language\"}</td>\n      <td>{\"/m/03_3d\": \"Japan\"}</td>\n      <td>{\"/m/06n90\": \"Science Fiction\", \"/m/0gw5n2f\": ...</td>\n    </tr>\n    <tr>\n      <th>81740</th>\n      <td>12476867</td>\n      <td>/m/02w7zz8</td>\n      <td>Spliced</td>\n      <td>2002</td>\n      <td>&lt;NA&gt;</td>\n      <td>86.0</td>\n      <td>{\"/m/02h40lc\": \"English Language\"}</td>\n      <td>{\"/m/0d060g\": \"Canada\"}</td>\n      <td>{\"/m/01jfsb\": \"Thriller\", \"/m/03npn\": \"Horror\"...</td>\n    </tr>\n  </tbody>\n</table>\n<p>81741 rows × 9 columns</p>\n</div>"
     },
     "metadata": {},
     "output_type": "display_data"
    }
   ],
   "source": [
    "# Please be sure your data is store in the same path\n",
    "data_path = 'dataset/MovieSummaries/movie.metadata.tsv'\n",
    "\n",
    "# Load the text file into Pandas DataFrame\n",
    "movie = load_movies(data_path)\n",
    "\n",
    "# Display the dataframe\n",
    "display(movie)"
   ],
   "metadata": {
    "collapsed": false,
    "ExecuteTime": {
     "end_time": "2023-11-17T15:51:02.287297800Z",
     "start_time": "2023-11-17T15:51:01.483591800Z"
    }
   }
  },
  {
   "cell_type": "markdown",
   "source": [
    "A quick visual insight can be done to get information gain. From the $81,741$ movies, we see that some variables are textual (i.e. `freebase_movieID`, `name`, ...) or numerical (i.e. `box_office_revenue`, `runtime`, ...).\n",
    "\n",
    "Let's have a more meaningful insight of our current data."
   ],
   "metadata": {
    "collapsed": false
   }
  },
  {
   "cell_type": "code",
   "execution_count": 3,
   "outputs": [
    {
     "data": {
      "text/plain": "                              class  missing_values\nwiki_movieID          <class 'int'>            0.00\nfreebase_movieID      <class 'str'>            0.00\nname                  <class 'str'>            0.00\nrelease_date          <class 'str'>            8.44\nbox_office_revenue  <class 'float'>           89.72\nruntime             <class 'float'>           25.02\nlanguages             <class 'str'>            0.00\ncountries             <class 'str'>            0.00\ngenres                <class 'str'>            0.00",
      "text/html": "<div>\n<style scoped>\n    .dataframe tbody tr th:only-of-type {\n        vertical-align: middle;\n    }\n\n    .dataframe tbody tr th {\n        vertical-align: top;\n    }\n\n    .dataframe thead th {\n        text-align: right;\n    }\n</style>\n<table border=\"1\" class=\"dataframe\">\n  <thead>\n    <tr style=\"text-align: right;\">\n      <th></th>\n      <th>class</th>\n      <th>missing_values</th>\n    </tr>\n  </thead>\n  <tbody>\n    <tr>\n      <th>wiki_movieID</th>\n      <td>&lt;class 'int'&gt;</td>\n      <td>0.00</td>\n    </tr>\n    <tr>\n      <th>freebase_movieID</th>\n      <td>&lt;class 'str'&gt;</td>\n      <td>0.00</td>\n    </tr>\n    <tr>\n      <th>name</th>\n      <td>&lt;class 'str'&gt;</td>\n      <td>0.00</td>\n    </tr>\n    <tr>\n      <th>release_date</th>\n      <td>&lt;class 'str'&gt;</td>\n      <td>8.44</td>\n    </tr>\n    <tr>\n      <th>box_office_revenue</th>\n      <td>&lt;class 'float'&gt;</td>\n      <td>89.72</td>\n    </tr>\n    <tr>\n      <th>runtime</th>\n      <td>&lt;class 'float'&gt;</td>\n      <td>25.02</td>\n    </tr>\n    <tr>\n      <th>languages</th>\n      <td>&lt;class 'str'&gt;</td>\n      <td>0.00</td>\n    </tr>\n    <tr>\n      <th>countries</th>\n      <td>&lt;class 'str'&gt;</td>\n      <td>0.00</td>\n    </tr>\n    <tr>\n      <th>genres</th>\n      <td>&lt;class 'str'&gt;</td>\n      <td>0.00</td>\n    </tr>\n  </tbody>\n</table>\n</div>"
     },
     "metadata": {},
     "output_type": "display_data"
    }
   ],
   "source": [
    "insight(movie)"
   ],
   "metadata": {
    "collapsed": false,
    "ExecuteTime": {
     "end_time": "2023-11-17T15:51:02.580114900Z",
     "start_time": "2023-11-17T15:51:02.283248800Z"
    }
   }
  },
  {
   "cell_type": "markdown",
   "source": [
    "We see that only few movies ($8,401$) have information about their box office revenue. Also, not all needed attribute are stored in the actual raw data. Since they are important metrics for out analysis, let's try to retrieve as much information as possible via API requests (procedure explained below)."
   ],
   "metadata": {
    "collapsed": false
   }
  },
  {
   "cell_type": "markdown",
   "source": [
    "## Clean/Enrich Data\n",
    "\n",
    " To enrich our dataset, we use a free to use API ([TMDB](https://www.themoviedb.org/?language=fr)). Some important features are still missing after this procedure. Then, we drop these movies from our analysis.\n",
    "\n",
    "A specific script has been created to be run once and create our `clean_enrich_movie.csv` dataset. Go to `enrich_data.py` and its linked library `tmdb/tmdbDataLoader.py` for more explanation on how we retrieved these information. Please note that a personal API key is needed to successfully run the script ([create key](https://developer.themoviedb.org/reference/intro/getting-started)). Make sure to create file `.env` with your API bearer token using the `.env_example` as template."
   ],
   "metadata": {
    "collapsed": false
   }
  },
  {
   "cell_type": "code",
   "execution_count": 4,
   "outputs": [
    {
     "data": {
      "text/plain": "       box_office_revenue                                           name  \\\n0            2.782275e+09                                         Avatar   \n1            2.185372e+09                                        Titanic   \n2            1.511758e+09                                   The Avengers   \n3            1.328111e+09  Harry Potter and the Deathly Hallows – Part 2   \n4            1.215577e+09                                     Iron Man 3   \n...                   ...                                            ...   \n11882        1.000000e+00                            Belizaire the Cajun   \n11883        1.000000e+00                              A Cry in the Wild   \n11884        1.000000e+00                                      Cicak-Man   \n11885        1.000000e+00                             Three for the Road   \n11886        1.000000e+00                     MVP: Most Valuable Primate   \n\n                                                  genres   tmdb_id  \\\n0      [Thriller, Science Fiction, Adventure, Compute...   19995.0   \n1      [Tragedy, Costume drama, Historical fiction, A...     597.0   \n2                              [Science Fiction, Action]   24428.0   \n3                   [Drama, Mystery, Fantasy, Adventure]   12445.0   \n4          [Science Fiction, Action, Fantasy, Adventure]   68721.0   \n...                                                  ...       ...   \n11882  [Crime Fiction, Social problem film, Indie, Hi...  274253.0   \n11883  [Family Film, Family Drama, Drama, Adventure, ...   25373.0   \n11884                          [Comedy, Superhero movie]   69767.0   \n11885                             [Drama, Indie, Comedy]  116064.0   \n11886  [Children's/Family, Animal Picture, Sports, Ch...   32834.0   \n\n      release_date                                   countries  \\\n0             2009  [United States of America, United Kingdom]   \n1             1997                  [United States of America]   \n2             2012                  [United States of America]   \n3             2011  [United States of America, United Kingdom]   \n4             2013                  [United States of America]   \n...            ...                                         ...   \n11882         1986                  [United States of America]   \n11883         1990                  [United States of America]   \n11884         2006                                  [Malaysia]   \n11885         1987                  [United States of America]   \n11886         2000                  [United States of America]   \n\n                                               composers  \n0      [Composer(id=1729, name='James Horner', birthd...  \n1      [Composer(id=1729, name='James Horner', birthd...  \n2      [Composer(id=37, name='Alan Silvestri', birthd...  \n3      [Composer(id=2949, name='Alexandre Desplat', b...  \n4      [Composer(id=6041, name='Brian Tyler', birthda...  \n...                                                  ...  \n11882  [Composer(id=2886167, name='Michael Doucet', b...  \n11883  [Composer(id=58124, name='Arthur Kempel', birt...  \n11884                                                NaN  \n11885  [Composer(id=69900, name='Barry Goldberg', bir...  \n11886                                                NaN  \n\n[11887 rows x 7 columns]",
      "text/html": "<div>\n<style scoped>\n    .dataframe tbody tr th:only-of-type {\n        vertical-align: middle;\n    }\n\n    .dataframe tbody tr th {\n        vertical-align: top;\n    }\n\n    .dataframe thead th {\n        text-align: right;\n    }\n</style>\n<table border=\"1\" class=\"dataframe\">\n  <thead>\n    <tr style=\"text-align: right;\">\n      <th></th>\n      <th>box_office_revenue</th>\n      <th>name</th>\n      <th>genres</th>\n      <th>tmdb_id</th>\n      <th>release_date</th>\n      <th>countries</th>\n      <th>composers</th>\n    </tr>\n  </thead>\n  <tbody>\n    <tr>\n      <th>0</th>\n      <td>2.782275e+09</td>\n      <td>Avatar</td>\n      <td>[Thriller, Science Fiction, Adventure, Compute...</td>\n      <td>19995.0</td>\n      <td>2009</td>\n      <td>[United States of America, United Kingdom]</td>\n      <td>[Composer(id=1729, name='James Horner', birthd...</td>\n    </tr>\n    <tr>\n      <th>1</th>\n      <td>2.185372e+09</td>\n      <td>Titanic</td>\n      <td>[Tragedy, Costume drama, Historical fiction, A...</td>\n      <td>597.0</td>\n      <td>1997</td>\n      <td>[United States of America]</td>\n      <td>[Composer(id=1729, name='James Horner', birthd...</td>\n    </tr>\n    <tr>\n      <th>2</th>\n      <td>1.511758e+09</td>\n      <td>The Avengers</td>\n      <td>[Science Fiction, Action]</td>\n      <td>24428.0</td>\n      <td>2012</td>\n      <td>[United States of America]</td>\n      <td>[Composer(id=37, name='Alan Silvestri', birthd...</td>\n    </tr>\n    <tr>\n      <th>3</th>\n      <td>1.328111e+09</td>\n      <td>Harry Potter and the Deathly Hallows – Part 2</td>\n      <td>[Drama, Mystery, Fantasy, Adventure]</td>\n      <td>12445.0</td>\n      <td>2011</td>\n      <td>[United States of America, United Kingdom]</td>\n      <td>[Composer(id=2949, name='Alexandre Desplat', b...</td>\n    </tr>\n    <tr>\n      <th>4</th>\n      <td>1.215577e+09</td>\n      <td>Iron Man 3</td>\n      <td>[Science Fiction, Action, Fantasy, Adventure]</td>\n      <td>68721.0</td>\n      <td>2013</td>\n      <td>[United States of America]</td>\n      <td>[Composer(id=6041, name='Brian Tyler', birthda...</td>\n    </tr>\n    <tr>\n      <th>...</th>\n      <td>...</td>\n      <td>...</td>\n      <td>...</td>\n      <td>...</td>\n      <td>...</td>\n      <td>...</td>\n      <td>...</td>\n    </tr>\n    <tr>\n      <th>11882</th>\n      <td>1.000000e+00</td>\n      <td>Belizaire the Cajun</td>\n      <td>[Crime Fiction, Social problem film, Indie, Hi...</td>\n      <td>274253.0</td>\n      <td>1986</td>\n      <td>[United States of America]</td>\n      <td>[Composer(id=2886167, name='Michael Doucet', b...</td>\n    </tr>\n    <tr>\n      <th>11883</th>\n      <td>1.000000e+00</td>\n      <td>A Cry in the Wild</td>\n      <td>[Family Film, Family Drama, Drama, Adventure, ...</td>\n      <td>25373.0</td>\n      <td>1990</td>\n      <td>[United States of America]</td>\n      <td>[Composer(id=58124, name='Arthur Kempel', birt...</td>\n    </tr>\n    <tr>\n      <th>11884</th>\n      <td>1.000000e+00</td>\n      <td>Cicak-Man</td>\n      <td>[Comedy, Superhero movie]</td>\n      <td>69767.0</td>\n      <td>2006</td>\n      <td>[Malaysia]</td>\n      <td>NaN</td>\n    </tr>\n    <tr>\n      <th>11885</th>\n      <td>1.000000e+00</td>\n      <td>Three for the Road</td>\n      <td>[Drama, Indie, Comedy]</td>\n      <td>116064.0</td>\n      <td>1987</td>\n      <td>[United States of America]</td>\n      <td>[Composer(id=69900, name='Barry Goldberg', bir...</td>\n    </tr>\n    <tr>\n      <th>11886</th>\n      <td>1.000000e+00</td>\n      <td>MVP: Most Valuable Primate</td>\n      <td>[Children's/Family, Animal Picture, Sports, Ch...</td>\n      <td>32834.0</td>\n      <td>2000</td>\n      <td>[United States of America]</td>\n      <td>NaN</td>\n    </tr>\n  </tbody>\n</table>\n<p>11887 rows × 7 columns</p>\n</div>"
     },
     "metadata": {},
     "output_type": "display_data"
    }
   ],
   "source": [
    "# Load the cleaned and enriched data set (created via enrich_movie_data.py script)\n",
    "enhanced_movie = pd.read_pickle('dataset/clean_enrich_movies.pickle')\n",
    "\n",
    "# Display the loaded dataframe\n",
    "display(enhanced_movie)"
   ],
   "metadata": {
    "collapsed": false,
    "ExecuteTime": {
     "end_time": "2023-11-17T15:51:02.970266700Z",
     "start_time": "2023-11-17T15:51:02.576634800Z"
    }
   }
  },
  {
   "cell_type": "markdown",
   "source": [
    "Let's have a more deep look at this new dataframe. First, let's have a look of the percentage of missing values now."
   ],
   "metadata": {
    "collapsed": false
   }
  },
  {
   "cell_type": "code",
   "execution_count": 5,
   "outputs": [
    {
     "data": {
      "text/plain": "                              class  missing_values\nbox_office_revenue  <class 'float'>            0.00\nname                  <class 'str'>            0.00\ngenres               <class 'list'>            0.00\ntmdb_id             <class 'float'>            0.00\nrelease_date          <class 'str'>            0.00\ncountries            <class 'list'>            0.00\ncomposers            <class 'list'>           32.99",
      "text/html": "<div>\n<style scoped>\n    .dataframe tbody tr th:only-of-type {\n        vertical-align: middle;\n    }\n\n    .dataframe tbody tr th {\n        vertical-align: top;\n    }\n\n    .dataframe thead th {\n        text-align: right;\n    }\n</style>\n<table border=\"1\" class=\"dataframe\">\n  <thead>\n    <tr style=\"text-align: right;\">\n      <th></th>\n      <th>class</th>\n      <th>missing_values</th>\n    </tr>\n  </thead>\n  <tbody>\n    <tr>\n      <th>box_office_revenue</th>\n      <td>&lt;class 'float'&gt;</td>\n      <td>0.00</td>\n    </tr>\n    <tr>\n      <th>name</th>\n      <td>&lt;class 'str'&gt;</td>\n      <td>0.00</td>\n    </tr>\n    <tr>\n      <th>genres</th>\n      <td>&lt;class 'list'&gt;</td>\n      <td>0.00</td>\n    </tr>\n    <tr>\n      <th>tmdb_id</th>\n      <td>&lt;class 'float'&gt;</td>\n      <td>0.00</td>\n    </tr>\n    <tr>\n      <th>release_date</th>\n      <td>&lt;class 'str'&gt;</td>\n      <td>0.00</td>\n    </tr>\n    <tr>\n      <th>countries</th>\n      <td>&lt;class 'list'&gt;</td>\n      <td>0.00</td>\n    </tr>\n    <tr>\n      <th>composers</th>\n      <td>&lt;class 'list'&gt;</td>\n      <td>32.99</td>\n    </tr>\n  </tbody>\n</table>\n</div>"
     },
     "metadata": {},
     "output_type": "display_data"
    }
   ],
   "source": [
    "insight(enhanced_movie)"
   ],
   "metadata": {
    "collapsed": false,
    "ExecuteTime": {
     "end_time": "2023-11-17T15:51:03.267335400Z",
     "start_time": "2023-11-17T15:51:02.964282800Z"
    }
   }
  },
  {
   "cell_type": "markdown",
   "source": [
    "We also display statistical values to better understand the distribution of few metrics of the data."
   ],
   "metadata": {
    "collapsed": false
   }
  },
  {
   "cell_type": "code",
   "execution_count": 6,
   "outputs": [
    {
     "data": {
      "text/plain": "count    1.188700e+04\nmean     4.218139e+07\nstd      1.087840e+08\nmin      1.000000e+00\n25%      1.432743e+06\n50%      7.241180e+06\n75%      3.200000e+07\nmax      2.782275e+09\nName: box_office_revenue, dtype: float64"
     },
     "metadata": {},
     "output_type": "display_data"
    },
    {
     "name": "stdout",
     "output_type": "stream",
     "text": [
      "There is 32.99% of nan composers\n",
      "\n",
      "Considering the first composer of the list if multiple have been returned for a movie, we can compute the following statistics on the retrieved data:\n",
      "\n",
      "\t - There is 0.00% of nan name for composers\n",
      "\t - There is 20.39% of nan birthday for composers\n",
      "\t - There is 0.00% of nan gender for composers\n",
      "\t - There is 73.24% of nan homepage for composers\n",
      "\t - There is 24.88% of nan place of birth for composers\n",
      "\t - There is 0.00% of nan first appearance in movie for composers\n"
     ]
    }
   ],
   "source": [
    "insight_enhance(enhanced_movie)"
   ],
   "metadata": {
    "collapsed": false,
    "ExecuteTime": {
     "end_time": "2023-11-17T15:51:03.593828900Z",
     "start_time": "2023-11-17T15:51:03.258486Z"
    }
   }
  },
  {
   "cell_type": "markdown",
   "source": [
    "## Spotify API\n",
    "\n",
    "For question 2 and 7 we want to enrich our data with the Spotify API. We want to get the genre and the popularity of each song of each movie. To do so, we use the [Spotify](https://spotipy.readthedocs.io/en/2.16.1/) library. We can then use the `spotify_dataset` to get the genre and the popularity of each song of each composer which have composed at least one music for a movie. As the spotify API has got a limit on the requests number, we were not able to create the complete dataset for now. That's why, we are only showing the data for one composer for this milestone, just to show that we can access the necessary data to answer our research questions."
   ],
   "metadata": {
    "collapsed": false
   }
  },
  {
   "cell_type": "code",
   "execution_count": 7,
   "outputs": [
    {
     "data": {
      "text/plain": "   Unnamed: 0                      id                                name  \\\n0           0  5XH4I94l2ZyBlA9pB5FAlK  Générique de fin, Dancing in Jaffa   \n1           1  3tJUcLIzEW7jXWR6LFFPLj   Les bords du gange, Le grand jour   \n2           2  5FPFwymFgzcIvAuzfqdTwx  Générique de début, Les misérables   \n3           3  72FY2lq2awOURdaDCtiTaW                 Blanc comme neige I   \n4           4  26dHq3RQ5o3mY8md7VXnS7               Le système de Ponzi I   \n\n                   genre             composer_id  popularity  \n0  ['french soundtrack']  5qtybJzm3AeeHlABbAaqTC           0  \n1  ['french soundtrack']  5qtybJzm3AeeHlABbAaqTC           0  \n2  ['french soundtrack']  5qtybJzm3AeeHlABbAaqTC           2  \n3  ['french soundtrack']  5qtybJzm3AeeHlABbAaqTC           0  \n4  ['french soundtrack']  5qtybJzm3AeeHlABbAaqTC           0  ",
      "text/html": "<div>\n<style scoped>\n    .dataframe tbody tr th:only-of-type {\n        vertical-align: middle;\n    }\n\n    .dataframe tbody tr th {\n        vertical-align: top;\n    }\n\n    .dataframe thead th {\n        text-align: right;\n    }\n</style>\n<table border=\"1\" class=\"dataframe\">\n  <thead>\n    <tr style=\"text-align: right;\">\n      <th></th>\n      <th>Unnamed: 0</th>\n      <th>id</th>\n      <th>name</th>\n      <th>genre</th>\n      <th>composer_id</th>\n      <th>popularity</th>\n    </tr>\n  </thead>\n  <tbody>\n    <tr>\n      <th>0</th>\n      <td>0</td>\n      <td>5XH4I94l2ZyBlA9pB5FAlK</td>\n      <td>Générique de fin, Dancing in Jaffa</td>\n      <td>['french soundtrack']</td>\n      <td>5qtybJzm3AeeHlABbAaqTC</td>\n      <td>0</td>\n    </tr>\n    <tr>\n      <th>1</th>\n      <td>1</td>\n      <td>3tJUcLIzEW7jXWR6LFFPLj</td>\n      <td>Les bords du gange, Le grand jour</td>\n      <td>['french soundtrack']</td>\n      <td>5qtybJzm3AeeHlABbAaqTC</td>\n      <td>0</td>\n    </tr>\n    <tr>\n      <th>2</th>\n      <td>2</td>\n      <td>5FPFwymFgzcIvAuzfqdTwx</td>\n      <td>Générique de début, Les misérables</td>\n      <td>['french soundtrack']</td>\n      <td>5qtybJzm3AeeHlABbAaqTC</td>\n      <td>2</td>\n    </tr>\n    <tr>\n      <th>3</th>\n      <td>3</td>\n      <td>72FY2lq2awOURdaDCtiTaW</td>\n      <td>Blanc comme neige I</td>\n      <td>['french soundtrack']</td>\n      <td>5qtybJzm3AeeHlABbAaqTC</td>\n      <td>0</td>\n    </tr>\n    <tr>\n      <th>4</th>\n      <td>4</td>\n      <td>26dHq3RQ5o3mY8md7VXnS7</td>\n      <td>Le système de Ponzi I</td>\n      <td>['french soundtrack']</td>\n      <td>5qtybJzm3AeeHlABbAaqTC</td>\n      <td>0</td>\n    </tr>\n  </tbody>\n</table>\n</div>"
     },
     "execution_count": 7,
     "metadata": {},
     "output_type": "execute_result"
    }
   ],
   "source": [
    "musics = pd.read_csv('dataset/spotify_dataset.csv')\n",
    "musics.head()"
   ],
   "metadata": {
    "collapsed": false,
    "ExecuteTime": {
     "end_time": "2023-11-17T15:51:03.867459Z",
     "start_time": "2023-11-17T15:51:03.541940100Z"
    }
   }
  }
 ],
 "metadata": {
  "kernelspec": {
   "display_name": "Python 3",
   "language": "python",
   "name": "python3"
  },
  "language_info": {
   "codemirror_mode": {
    "name": "ipython",
    "version": 2
   },
   "file_extension": ".py",
   "mimetype": "text/x-python",
   "name": "python",
   "nbconvert_exporter": "python",
   "pygments_lexer": "ipython2",
   "version": "2.7.6"
  }
 },
 "nbformat": 4,
 "nbformat_minor": 0
}
